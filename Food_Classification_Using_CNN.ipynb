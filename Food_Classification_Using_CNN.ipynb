{
  "nbformat": 4,
  "nbformat_minor": 0,
  "metadata": {
    "colab": {
      "provenance": []
    },
    "kernelspec": {
      "name": "python3",
      "display_name": "Python 3"
    },
    "language_info": {
      "name": "python"
    },
    "widgets": {
      "application/vnd.jupyter.widget-state+json": {
        "17e496caddaa44feb918c1f74b79a5fc": {
          "model_module": "@jupyter-widgets/controls",
          "model_name": "HBoxModel",
          "model_module_version": "1.5.0",
          "state": {
            "_view_name": "HBoxView",
            "_dom_classes": [],
            "_model_name": "HBoxModel",
            "_view_module": "@jupyter-widgets/controls",
            "_model_module_version": "1.5.0",
            "_view_count": null,
            "_view_module_version": "1.5.0",
            "box_style": "",
            "layout": "IPY_MODEL_ed4307776d23443fb1df319a1b6d1a24",
            "_model_module": "@jupyter-widgets/controls",
            "children": [
              "IPY_MODEL_113eb3ec519c427195ef5e250e69dc31",
              "IPY_MODEL_6259d7d642d94d29b422c38d78671781",
              "IPY_MODEL_982d64fbe35a49cbbf5f87dd8ef692de"
            ]
          }
        },
        "ed4307776d23443fb1df319a1b6d1a24": {
          "model_module": "@jupyter-widgets/base",
          "model_name": "LayoutModel",
          "model_module_version": "1.2.0",
          "state": {
            "_view_name": "LayoutView",
            "grid_template_rows": null,
            "right": null,
            "justify_content": null,
            "_view_module": "@jupyter-widgets/base",
            "overflow": null,
            "_model_module_version": "1.2.0",
            "_view_count": null,
            "flex_flow": null,
            "width": null,
            "min_width": null,
            "border": null,
            "align_items": null,
            "bottom": null,
            "_model_module": "@jupyter-widgets/base",
            "top": null,
            "grid_column": null,
            "overflow_y": null,
            "overflow_x": null,
            "grid_auto_flow": null,
            "grid_area": null,
            "grid_template_columns": null,
            "flex": null,
            "_model_name": "LayoutModel",
            "justify_items": null,
            "grid_row": null,
            "max_height": null,
            "align_content": null,
            "visibility": null,
            "align_self": null,
            "height": null,
            "min_height": null,
            "padding": null,
            "grid_auto_rows": null,
            "grid_gap": null,
            "max_width": null,
            "order": null,
            "_view_module_version": "1.2.0",
            "grid_template_areas": null,
            "object_position": null,
            "object_fit": null,
            "grid_auto_columns": null,
            "margin": null,
            "display": null,
            "left": null
          }
        },
        "113eb3ec519c427195ef5e250e69dc31": {
          "model_module": "@jupyter-widgets/controls",
          "model_name": "HTMLModel",
          "model_module_version": "1.5.0",
          "state": {
            "_view_name": "HTMLView",
            "style": "IPY_MODEL_40e0869723414704b84bf1c7ad17554a",
            "_dom_classes": [],
            "description": "",
            "_model_name": "HTMLModel",
            "placeholder": "​",
            "_view_module": "@jupyter-widgets/controls",
            "_model_module_version": "1.5.0",
            "value": "100%",
            "_view_count": null,
            "_view_module_version": "1.5.0",
            "description_tooltip": null,
            "_model_module": "@jupyter-widgets/controls",
            "layout": "IPY_MODEL_e1bb60dc79b04b6d9456caec99170bed"
          }
        },
        "6259d7d642d94d29b422c38d78671781": {
          "model_module": "@jupyter-widgets/controls",
          "model_name": "FloatProgressModel",
          "model_module_version": "1.5.0",
          "state": {
            "_view_name": "ProgressView",
            "style": "IPY_MODEL_faab0960d1f640e09aa1e68924f6bbd5",
            "_dom_classes": [],
            "description": "",
            "_model_name": "FloatProgressModel",
            "bar_style": "success",
            "max": 553433881,
            "_view_module": "@jupyter-widgets/controls",
            "_model_module_version": "1.5.0",
            "value": 553433881,
            "_view_count": null,
            "_view_module_version": "1.5.0",
            "orientation": "horizontal",
            "min": 0,
            "description_tooltip": null,
            "_model_module": "@jupyter-widgets/controls",
            "layout": "IPY_MODEL_870410f7e64743d1b9da9a30dabe182e"
          }
        },
        "982d64fbe35a49cbbf5f87dd8ef692de": {
          "model_module": "@jupyter-widgets/controls",
          "model_name": "HTMLModel",
          "model_module_version": "1.5.0",
          "state": {
            "_view_name": "HTMLView",
            "style": "IPY_MODEL_a6de8495add94085bcbf366ff99bdf44",
            "_dom_classes": [],
            "description": "",
            "_model_name": "HTMLModel",
            "placeholder": "​",
            "_view_module": "@jupyter-widgets/controls",
            "_model_module_version": "1.5.0",
            "value": " 528M/528M [00:03&lt;00:00, 191MB/s]",
            "_view_count": null,
            "_view_module_version": "1.5.0",
            "description_tooltip": null,
            "_model_module": "@jupyter-widgets/controls",
            "layout": "IPY_MODEL_9d2f279e992f498594ce86acc67666f9"
          }
        },
        "40e0869723414704b84bf1c7ad17554a": {
          "model_module": "@jupyter-widgets/controls",
          "model_name": "DescriptionStyleModel",
          "model_module_version": "1.5.0",
          "state": {
            "_view_name": "StyleView",
            "_model_name": "DescriptionStyleModel",
            "description_width": "",
            "_view_module": "@jupyter-widgets/base",
            "_model_module_version": "1.5.0",
            "_view_count": null,
            "_view_module_version": "1.2.0",
            "_model_module": "@jupyter-widgets/controls"
          }
        },
        "e1bb60dc79b04b6d9456caec99170bed": {
          "model_module": "@jupyter-widgets/base",
          "model_name": "LayoutModel",
          "model_module_version": "1.2.0",
          "state": {
            "_view_name": "LayoutView",
            "grid_template_rows": null,
            "right": null,
            "justify_content": null,
            "_view_module": "@jupyter-widgets/base",
            "overflow": null,
            "_model_module_version": "1.2.0",
            "_view_count": null,
            "flex_flow": null,
            "width": null,
            "min_width": null,
            "border": null,
            "align_items": null,
            "bottom": null,
            "_model_module": "@jupyter-widgets/base",
            "top": null,
            "grid_column": null,
            "overflow_y": null,
            "overflow_x": null,
            "grid_auto_flow": null,
            "grid_area": null,
            "grid_template_columns": null,
            "flex": null,
            "_model_name": "LayoutModel",
            "justify_items": null,
            "grid_row": null,
            "max_height": null,
            "align_content": null,
            "visibility": null,
            "align_self": null,
            "height": null,
            "min_height": null,
            "padding": null,
            "grid_auto_rows": null,
            "grid_gap": null,
            "max_width": null,
            "order": null,
            "_view_module_version": "1.2.0",
            "grid_template_areas": null,
            "object_position": null,
            "object_fit": null,
            "grid_auto_columns": null,
            "margin": null,
            "display": null,
            "left": null
          }
        },
        "faab0960d1f640e09aa1e68924f6bbd5": {
          "model_module": "@jupyter-widgets/controls",
          "model_name": "ProgressStyleModel",
          "model_module_version": "1.5.0",
          "state": {
            "_view_name": "StyleView",
            "_model_name": "ProgressStyleModel",
            "description_width": "",
            "_view_module": "@jupyter-widgets/base",
            "_model_module_version": "1.5.0",
            "_view_count": null,
            "_view_module_version": "1.2.0",
            "bar_color": null,
            "_model_module": "@jupyter-widgets/controls"
          }
        },
        "870410f7e64743d1b9da9a30dabe182e": {
          "model_module": "@jupyter-widgets/base",
          "model_name": "LayoutModel",
          "model_module_version": "1.2.0",
          "state": {
            "_view_name": "LayoutView",
            "grid_template_rows": null,
            "right": null,
            "justify_content": null,
            "_view_module": "@jupyter-widgets/base",
            "overflow": null,
            "_model_module_version": "1.2.0",
            "_view_count": null,
            "flex_flow": null,
            "width": null,
            "min_width": null,
            "border": null,
            "align_items": null,
            "bottom": null,
            "_model_module": "@jupyter-widgets/base",
            "top": null,
            "grid_column": null,
            "overflow_y": null,
            "overflow_x": null,
            "grid_auto_flow": null,
            "grid_area": null,
            "grid_template_columns": null,
            "flex": null,
            "_model_name": "LayoutModel",
            "justify_items": null,
            "grid_row": null,
            "max_height": null,
            "align_content": null,
            "visibility": null,
            "align_self": null,
            "height": null,
            "min_height": null,
            "padding": null,
            "grid_auto_rows": null,
            "grid_gap": null,
            "max_width": null,
            "order": null,
            "_view_module_version": "1.2.0",
            "grid_template_areas": null,
            "object_position": null,
            "object_fit": null,
            "grid_auto_columns": null,
            "margin": null,
            "display": null,
            "left": null
          }
        },
        "a6de8495add94085bcbf366ff99bdf44": {
          "model_module": "@jupyter-widgets/controls",
          "model_name": "DescriptionStyleModel",
          "model_module_version": "1.5.0",
          "state": {
            "_view_name": "StyleView",
            "_model_name": "DescriptionStyleModel",
            "description_width": "",
            "_view_module": "@jupyter-widgets/base",
            "_model_module_version": "1.5.0",
            "_view_count": null,
            "_view_module_version": "1.2.0",
            "_model_module": "@jupyter-widgets/controls"
          }
        },
        "9d2f279e992f498594ce86acc67666f9": {
          "model_module": "@jupyter-widgets/base",
          "model_name": "LayoutModel",
          "model_module_version": "1.2.0",
          "state": {
            "_view_name": "LayoutView",
            "grid_template_rows": null,
            "right": null,
            "justify_content": null,
            "_view_module": "@jupyter-widgets/base",
            "overflow": null,
            "_model_module_version": "1.2.0",
            "_view_count": null,
            "flex_flow": null,
            "width": null,
            "min_width": null,
            "border": null,
            "align_items": null,
            "bottom": null,
            "_model_module": "@jupyter-widgets/base",
            "top": null,
            "grid_column": null,
            "overflow_y": null,
            "overflow_x": null,
            "grid_auto_flow": null,
            "grid_area": null,
            "grid_template_columns": null,
            "flex": null,
            "_model_name": "LayoutModel",
            "justify_items": null,
            "grid_row": null,
            "max_height": null,
            "align_content": null,
            "visibility": null,
            "align_self": null,
            "height": null,
            "min_height": null,
            "padding": null,
            "grid_auto_rows": null,
            "grid_gap": null,
            "max_width": null,
            "order": null,
            "_view_module_version": "1.2.0",
            "grid_template_areas": null,
            "object_position": null,
            "object_fit": null,
            "grid_auto_columns": null,
            "margin": null,
            "display": null,
            "left": null
          }
        }
      }
    }
  },
  "cells": [
    {
      "cell_type": "code",
      "source": [
        "from google.colab import drive\n",
        "drive.mount('/content/gdrive')"
      ],
      "metadata": {
        "colab": {
          "base_uri": "https://localhost:8080/"
        },
        "id": "zsi3FvoaoYTZ",
        "outputId": "a77b7264-1c32-4eda-b97b-b7e143063a7d"
      },
      "execution_count": null,
      "outputs": [
        {
          "output_type": "stream",
          "name": "stdout",
          "text": [
            "Mounted at /content/gdrive\n"
          ]
        }
      ]
    },
    {
      "cell_type": "code",
      "source": [
        "import os\n",
        "import cv2\n",
        "import numpy as np\n",
        "from tqdm import tqdm \n",
        "import matplotlib.pyplot as plt\n",
        "import torch\n",
        "import torch.nn as nn\n",
        "import torch.nn.functional as F\n",
        "import torch.optim as optim\n",
        "import torchvision.models as models\n",
        "\n"
      ],
      "metadata": {
        "id": "JlNP2FhvbAuj"
      },
      "execution_count": null,
      "outputs": []
    },
    {
      "cell_type": "code",
      "execution_count": null,
      "metadata": {
        "id": "idJcWqT0okQO",
        "colab": {
          "base_uri": "https://localhost:8080/"
        },
        "outputId": "cbf6150f-b5d5-4174-ab81-f3c9f624265e"
      },
      "outputs": [
        {
          "output_type": "stream",
          "name": "stdout",
          "text": [
            "/content/gdrive/MyDrive/images/tramisu\n"
          ]
        },
        {
          "output_type": "stream",
          "name": "stderr",
          "text": [
            "100%|██████████| 300/300 [00:04<00:00, 66.44it/s] \n"
          ]
        },
        {
          "output_type": "stream",
          "name": "stdout",
          "text": [
            "/content/gdrive/MyDrive/images/baklava\n"
          ]
        },
        {
          "output_type": "stream",
          "name": "stderr",
          "text": [
            "100%|██████████| 300/300 [00:04<00:00, 65.37it/s] "
          ]
        },
        {
          "output_type": "stream",
          "name": "stdout",
          "text": [
            "Tramisu:  300\n",
            "Baklava:  300\n"
          ]
        },
        {
          "output_type": "stream",
          "name": "stderr",
          "text": [
            "\n",
            "/usr/local/lib/python3.7/dist-packages/numpy/lib/npyio.py:528: VisibleDeprecationWarning: Creating an ndarray from ragged nested sequences (which is a list-or-tuple of lists-or-tuples-or ndarrays with different lengths or shapes) is deprecated. If you meant to do this, you must specify 'dtype=object' when creating the ndarray.\n",
            "  arr = np.asanyarray(arr)\n"
          ]
        }
      ],
      "source": [
        "REBUILD_DATA = True\n",
        "\n",
        "class TramisuVSBaklava():\n",
        "    IMG_SIZE = 50 \n",
        "    TRAMISU = \"/content/gdrive/MyDrive/images/tramisu\"\n",
        "    BAKLAVA = \"/content/gdrive/MyDrive/images/baklava\"\n",
        "    LABELS = {TRAMISU : 0, BAKLAVA : 1}\n",
        "\n",
        "    training_data = []\n",
        "    tramisucount = 0\n",
        "    baklavacount = 0\n",
        "\n",
        "    def make_training_data(self):\n",
        "      for label in self.LABELS:\n",
        "        print(label)\n",
        "        for f in tqdm(os.listdir(label)):\n",
        "          if \"jpg\" in f: \n",
        "            try:\n",
        "              path = os.path.join(label, f)\n",
        "              img = cv2.imread(path, cv2.IMREAD_GRAYSCALE)\n",
        "              img = cv2.resize(img, (self.IMG_SIZE, self.IMG_SIZE))\n",
        "              self.training_data.append([np.array(img), np.eye(2)[self.LABELS[label]]])\n",
        "\n",
        "              if label == self.TRAMISU:\n",
        "                self.tramisucount += 1\n",
        "              elif label == self.BAKLAVA:\n",
        "                self.baklavacount += 1\n",
        "            except Exception as e:\n",
        "              pass\n",
        "      np.random.shuffle(self.training_data)\n",
        "      print(\"Tramisu: \", tramisuvbaklava.tramisucount)\n",
        "      print(\"Baklava: \", tramisuvbaklava.baklavacount)\n",
        "      np.save(\"training_data.npy\", self.training_data)\n",
        "\n",
        "\n",
        "if REBUILD_DATA:\n",
        "  tramisuvbaklava = TramisuVSBaklava()\n",
        "  tramisuvbaklava.make_training_data()\n",
        "  \n",
        "training_data = np.load(\"training_data.npy\", allow_pickle = True)"
      ]
    },
    {
      "cell_type": "code",
      "source": [
        "class Net(nn.Module):\n",
        "  def __init__(self):\n",
        "    super().__init__()\n",
        "    self.conv1 = nn.Conv2d(1, 32, 5)\n",
        "    self.conv2 = nn.Conv2d(32, 64, 5)\n",
        "    self.conv3 = nn.Conv2d(64, 128, 5)\n",
        "\n",
        "    x = torch.randn(50, 50).view(-1, 1, 50, 50)\n",
        "    self._to_linear = None\n",
        "    self.convs(x)\n",
        "    self.fc1 = nn.Linear(self._to_linear ,512)\n",
        "    self.fc2 = nn.Linear(512, 2)\n",
        "    \n",
        "  def convs(self, x):\n",
        "    #print(x.shape)\n",
        "    x = F.max_pool2d(F.relu(self.conv1(x)), (2,2))\n",
        "    #print(x.shape)\n",
        "    x = F.max_pool2d(F.relu(self.conv2(x)), (2,2))\n",
        "    #print(x.shape)\n",
        "    x = F.max_pool2d(F.relu(self.conv3(x)), (2,2))\n",
        "    #print(x.shape)\n",
        "    if self._to_linear is None:\n",
        "      self._to_linear = x[0].shape[0]*x[0].shape[1]*x[0].shape[2]\n",
        "    return x\n",
        "  def forward(self, x):\n",
        "    x = self.convs(x)\n",
        "    x = x.view(-1, self._to_linear)\n",
        "    x = F.relu(self.fc1(x))\n",
        "    x = self.fc2(x)\n",
        "    return F.softmax(x, dim = 1)\n",
        "\n",
        "net = Net()\n",
        "print(net)\n",
        "\n",
        "optimizer = optim.Adam(net.parameters(), lr = 0.001)\n",
        "loss_function = nn.MSELoss()\n",
        "\n",
        "X = torch.Tensor([i[0] for i in training_data]).view(-1, 50, 50)\n",
        "X = X/255.0\n",
        "y = torch.Tensor([i[1] for i in training_data])\n",
        "\n",
        "VAL_PCT = 0.1\n",
        "val_size = int(len(X)*VAL_PCT)\n",
        "#print(val_size)\n",
        "\n",
        "train_X = X[:-val_size]\n",
        "train_y = y[:-val_size]\n",
        "\n",
        "test_X = X[-val_size:]\n",
        "test_y = y[-val_size:]\n",
        "\n",
        "BATCH_SIZE = 20\n",
        "EPOCHS = 3\n",
        "output = []\n",
        "\n",
        "def train(net):\n",
        "  for epoch in range(EPOCHS):\n",
        "    for i in tqdm(range(0, len(train_X), BATCH_SIZE)):\n",
        "      \n",
        "      batch_X = train_X[i:i+BATCH_SIZE].view(-1, 1, 50, 50)\n",
        "      #print(batch_X.shape)\n",
        "      batch_y = train_y[i:i+BATCH_SIZE]\n",
        "      #print(batch_y.shape)\n",
        "      net.zero_grad()\n",
        "      outputs = net(batch_X)\n",
        "      loss = loss_function(outputs, batch_y)\n",
        "      loss.backward()\n",
        "      optimizer.step()\n",
        "      if epoch == EPOCHS-1:\n",
        "        output.append(outputs)\n",
        "      #print(outputs.shape)\n",
        "      #print(outputs)\n",
        "    print(f\"Epoch: {epoch}. Loss: {loss}\")\n",
        "\n",
        "def test(net):\n",
        "  correct = 0 \n",
        "  total = 0\n",
        "  with torch.no_grad():\n",
        "    for i in tqdm(range(len(test_X))):\n",
        "      real_class = torch.argmax(test_y[i])\n",
        "      net_out = net(test_X[i].view(-1, 1, 50, 50))[0]\n",
        "      predicted_class = torch.argmax(net_out)\n",
        "      if predicted_class == real_class:\n",
        "        correct += 1\n",
        "      total += 1\n",
        "  print(\"Accuracy:\", round(correct/total,3))\n"
      ],
      "metadata": {
        "colab": {
          "base_uri": "https://localhost:8080/"
        },
        "id": "ix697_YxoW_4",
        "outputId": "e684b2fd-763c-48a3-f74b-deeb908a81f1"
      },
      "execution_count": null,
      "outputs": [
        {
          "output_type": "stream",
          "name": "stdout",
          "text": [
            "Net(\n",
            "  (conv1): Conv2d(1, 32, kernel_size=(5, 5), stride=(1, 1))\n",
            "  (conv2): Conv2d(32, 64, kernel_size=(5, 5), stride=(1, 1))\n",
            "  (conv3): Conv2d(64, 128, kernel_size=(5, 5), stride=(1, 1))\n",
            "  (fc1): Linear(in_features=512, out_features=512, bias=True)\n",
            "  (fc2): Linear(in_features=512, out_features=2, bias=True)\n",
            ")\n"
          ]
        },
        {
          "output_type": "stream",
          "name": "stderr",
          "text": [
            "/usr/local/lib/python3.7/dist-packages/ipykernel_launcher.py:38: UserWarning: Creating a tensor from a list of numpy.ndarrays is extremely slow. Please consider converting the list to a single numpy.ndarray with numpy.array() before converting to a tensor. (Triggered internally at  ../torch/csrc/utils/tensor_new.cpp:201.)\n"
          ]
        }
      ]
    },
    {
      "cell_type": "code",
      "source": [
        "train(net)\n"
      ],
      "metadata": {
        "colab": {
          "base_uri": "https://localhost:8080/"
        },
        "id": "Np-Ov1YS8ub4",
        "outputId": "ec193578-4df5-4d4b-ba47-4afa74e654e5"
      },
      "execution_count": null,
      "outputs": [
        {
          "output_type": "stream",
          "name": "stderr",
          "text": [
            "100%|██████████| 27/27 [00:01<00:00, 13.67it/s]\n"
          ]
        },
        {
          "output_type": "stream",
          "name": "stdout",
          "text": [
            "Epoch: 0. Loss: 0.15145185589790344\n"
          ]
        },
        {
          "output_type": "stream",
          "name": "stderr",
          "text": [
            "100%|██████████| 27/27 [00:01<00:00, 13.91it/s]\n"
          ]
        },
        {
          "output_type": "stream",
          "name": "stdout",
          "text": [
            "Epoch: 1. Loss: 0.15715418756008148\n"
          ]
        },
        {
          "output_type": "stream",
          "name": "stderr",
          "text": [
            "100%|██████████| 27/27 [00:01<00:00, 13.66it/s]"
          ]
        },
        {
          "output_type": "stream",
          "name": "stdout",
          "text": [
            "Epoch: 2. Loss: 0.1629393994808197\n"
          ]
        },
        {
          "output_type": "stream",
          "name": "stderr",
          "text": [
            "\n"
          ]
        }
      ]
    },
    {
      "cell_type": "code",
      "source": [
        "length = len(output)\n",
        "i = 0\n",
        "j = 0\n",
        "out1 = []\n",
        "for i in range(27):\n",
        "  for j in range(BATCH_SIZE):\n",
        "    out1.append(output[i][j])\n",
        "print(len(out1))"
      ],
      "metadata": {
        "colab": {
          "base_uri": "https://localhost:8080/"
        },
        "id": "KECKKeduoHC_",
        "outputId": "2a8f24dc-47fe-4496-da99-4197c2401a48"
      },
      "execution_count": null,
      "outputs": [
        {
          "output_type": "stream",
          "name": "stdout",
          "text": [
            "540\n"
          ]
        }
      ]
    },
    {
      "cell_type": "code",
      "source": [
        "for i in range(len(out1)):\n",
        "  if out1[i][0] > out1[i][1]:\n",
        "    out1[i][0]=1\n",
        "    out1[i][1]=0\n",
        "  else:\n",
        "    out1[i][0]=0\n",
        "    out1[i][1]=1\n",
        "  "
      ],
      "metadata": {
        "id": "RnRXLJ9ZvdJ0"
      },
      "execution_count": null,
      "outputs": []
    },
    {
      "cell_type": "code",
      "source": [
        "plt.imshow(train_X[6], cmap = 'gray')\n",
        "print(out1[6])\n"
      ],
      "metadata": {
        "id": "uQfgZ2akDUeg",
        "colab": {
          "base_uri": "https://localhost:8080/",
          "height": 284
        },
        "outputId": "d6e47c1c-425e-4540-c2f5-5003dabdd863"
      },
      "execution_count": null,
      "outputs": [
        {
          "output_type": "stream",
          "name": "stdout",
          "text": [
            "tensor([1., 0.], grad_fn=<AsStridedBackward0>)\n"
          ]
        },
        {
          "output_type": "display_data",
          "data": {
            "image/png": "[encoded data removed]",
            "text/plain": [
              "<Figure size 432x288 with 1 Axes>"
            ]
          },
          "metadata": {
            "needs_background": "light"
          }
        }
      ]
    },
    {
      "cell_type": "code",
      "source": [
        "test(net)"
      ],
      "metadata": {
        "colab": {
          "base_uri": "https://localhost:8080/"
        },
        "id": "0lnM5pzC83YE",
        "outputId": "2c3d222d-2c32-4b7f-cc30-5c07596dabc1"
      },
      "execution_count": null,
      "outputs": [
        {
          "output_type": "stream",
          "name": "stderr",
          "text": [
            "100%|██████████| 60/60 [00:00<00:00, 570.17it/s]"
          ]
        },
        {
          "output_type": "stream",
          "name": "stdout",
          "text": [
            "Accuracy: 0.783\n"
          ]
        },
        {
          "output_type": "stream",
          "name": "stderr",
          "text": [
            "\n"
          ]
        }
      ]
    },
    {
      "cell_type": "code",
      "source": [
        "model = models.vgg16(pretrained=True)\n",
        "torch.save(model.state_dict(), 'model_weights.pth')"
      ],
      "metadata": {
        "id": "BhFcM5bQ-JdQ",
        "colab": {
          "base_uri": "https://localhost:8080/",
          "height": 66,
          "referenced_widgets": [
            "17e496caddaa44feb918c1f74b79a5fc",
            "ed4307776d23443fb1df319a1b6d1a24",
            "113eb3ec519c427195ef5e250e69dc31",
            "6259d7d642d94d29b422c38d78671781",
            "982d64fbe35a49cbbf5f87dd8ef692de",
            "40e0869723414704b84bf1c7ad17554a",
            "e1bb60dc79b04b6d9456caec99170bed",
            "faab0960d1f640e09aa1e68924f6bbd5",
            "870410f7e64743d1b9da9a30dabe182e",
            "a6de8495add94085bcbf366ff99bdf44",
            "9d2f279e992f498594ce86acc67666f9"
          ]
        },
        "outputId": "e67e22fe-3939-4c28-bfba-ad6beb652a1a"
      },
      "execution_count": null,
      "outputs": [
        {
          "output_type": "stream",
          "name": "stderr",
          "text": [
            "Downloading: \"https://download.pytorch.org/models/vgg16-397923af.pth\" to /root/.cache/torch/hub/checkpoints/vgg16-397923af.pth\n"
          ]
        },
        {
          "output_type": "display_data",
          "data": {
            "application/vnd.jupyter.widget-view+json": {
              "model_id": "17e496caddaa44feb918c1f74b79a5fc",
              "version_minor": 0,
              "version_major": 2
            },
            "text/plain": [
              "  0%|          | 0.00/528M [00:00<?, ?B/s]"
            ]
          },
          "metadata": {}
        }
      ]
    },
    {
      "cell_type": "code",
      "source": [
        "model = models.vgg16() # we do not specify pretrained=True, i.e. do not load default weights\n",
        "model.load_state_dict(torch.load('model_weights.pth'))\n",
        "model.eval()"
      ],
      "metadata": {
        "colab": {
          "base_uri": "https://localhost:8080/"
        },
        "id": "grJV85lz_IGR",
        "outputId": "a4458eeb-602f-43c2-af25-c2bd1034b374"
      },
      "execution_count": null,
      "outputs": [
        {
          "output_type": "execute_result",
          "data": {
            "text/plain": [
              "VGG(\n",
              "  (features): Sequential(\n",
              "    (0): Conv2d(3, 64, kernel_size=(3, 3), stride=(1, 1), padding=(1, 1))\n",
              "    (1): ReLU(inplace=True)\n",
              "    (2): Conv2d(64, 64, kernel_size=(3, 3), stride=(1, 1), padding=(1, 1))\n",
              "    (3): ReLU(inplace=True)\n",
              "    (4): MaxPool2d(kernel_size=2, stride=2, padding=0, dilation=1, ceil_mode=False)\n",
              "    (5): Conv2d(64, 128, kernel_size=(3, 3), stride=(1, 1), padding=(1, 1))\n",
              "    (6): ReLU(inplace=True)\n",
              "    (7): Conv2d(128, 128, kernel_size=(3, 3), stride=(1, 1), padding=(1, 1))\n",
              "    (8): ReLU(inplace=True)\n",
              "    (9): MaxPool2d(kernel_size=2, stride=2, padding=0, dilation=1, ceil_mode=False)\n",
              "    (10): Conv2d(128, 256, kernel_size=(3, 3), stride=(1, 1), padding=(1, 1))\n",
              "    (11): ReLU(inplace=True)\n",
              "    (12): Conv2d(256, 256, kernel_size=(3, 3), stride=(1, 1), padding=(1, 1))\n",
              "    (13): ReLU(inplace=True)\n",
              "    (14): Conv2d(256, 256, kernel_size=(3, 3), stride=(1, 1), padding=(1, 1))\n",
              "    (15): ReLU(inplace=True)\n",
              "    (16): MaxPool2d(kernel_size=2, stride=2, padding=0, dilation=1, ceil_mode=False)\n",
              "    (17): Conv2d(256, 512, kernel_size=(3, 3), stride=(1, 1), padding=(1, 1))\n",
              "    (18): ReLU(inplace=True)\n",
              "    (19): Conv2d(512, 512, kernel_size=(3, 3), stride=(1, 1), padding=(1, 1))\n",
              "    (20): ReLU(inplace=True)\n",
              "    (21): Conv2d(512, 512, kernel_size=(3, 3), stride=(1, 1), padding=(1, 1))\n",
              "    (22): ReLU(inplace=True)\n",
              "    (23): MaxPool2d(kernel_size=2, stride=2, padding=0, dilation=1, ceil_mode=False)\n",
              "    (24): Conv2d(512, 512, kernel_size=(3, 3), stride=(1, 1), padding=(1, 1))\n",
              "    (25): ReLU(inplace=True)\n",
              "    (26): Conv2d(512, 512, kernel_size=(3, 3), stride=(1, 1), padding=(1, 1))\n",
              "    (27): ReLU(inplace=True)\n",
              "    (28): Conv2d(512, 512, kernel_size=(3, 3), stride=(1, 1), padding=(1, 1))\n",
              "    (29): ReLU(inplace=True)\n",
              "    (30): MaxPool2d(kernel_size=2, stride=2, padding=0, dilation=1, ceil_mode=False)\n",
              "  )\n",
              "  (avgpool): AdaptiveAvgPool2d(output_size=(7, 7))\n",
              "  (classifier): Sequential(\n",
              "    (0): Linear(in_features=25088, out_features=4096, bias=True)\n",
              "    (1): ReLU(inplace=True)\n",
              "    (2): Dropout(p=0.5, inplace=False)\n",
              "    (3): Linear(in_features=4096, out_features=4096, bias=True)\n",
              "    (4): ReLU(inplace=True)\n",
              "    (5): Dropout(p=0.5, inplace=False)\n",
              "    (6): Linear(in_features=4096, out_features=1000, bias=True)\n",
              "  )\n",
              ")"
            ]
          },
          "metadata": {},
          "execution_count": 12
        }
      ]
    },
    {
      "cell_type": "markdown",
      "source": [
        "This section is copying the model with weights and deletes the last fully connected layer."
      ],
      "metadata": {
        "id": "GxHFcNOFBuCs"
      }
    },
    {
      "cell_type": "code",
      "source": [
        "copymodel = model\n",
        "copymodel.classifier = nn.Sequential(*list(copymodel.classifier.children())[:-3])\n",
        "copymodel.eval()"
      ],
      "metadata": {
        "colab": {
          "base_uri": "https://localhost:8080/"
        },
        "id": "Hr_GZaqp_UEU",
        "outputId": "084a79e4-feea-49fa-ebd1-3c3457876b68"
      },
      "execution_count": null,
      "outputs": [
        {
          "output_type": "execute_result",
          "data": {
            "text/plain": [
              "VGG(\n",
              "  (features): Sequential(\n",
              "    (0): Conv2d(3, 64, kernel_size=(3, 3), stride=(1, 1), padding=(1, 1))\n",
              "    (1): ReLU(inplace=True)\n",
              "    (2): Conv2d(64, 64, kernel_size=(3, 3), stride=(1, 1), padding=(1, 1))\n",
              "    (3): ReLU(inplace=True)\n",
              "    (4): MaxPool2d(kernel_size=2, stride=2, padding=0, dilation=1, ceil_mode=False)\n",
              "    (5): Conv2d(64, 128, kernel_size=(3, 3), stride=(1, 1), padding=(1, 1))\n",
              "    (6): ReLU(inplace=True)\n",
              "    (7): Conv2d(128, 128, kernel_size=(3, 3), stride=(1, 1), padding=(1, 1))\n",
              "    (8): ReLU(inplace=True)\n",
              "    (9): MaxPool2d(kernel_size=2, stride=2, padding=0, dilation=1, ceil_mode=False)\n",
              "    (10): Conv2d(128, 256, kernel_size=(3, 3), stride=(1, 1), padding=(1, 1))\n",
              "    (11): ReLU(inplace=True)\n",
              "    (12): Conv2d(256, 256, kernel_size=(3, 3), stride=(1, 1), padding=(1, 1))\n",
              "    (13): ReLU(inplace=True)\n",
              "    (14): Conv2d(256, 256, kernel_size=(3, 3), stride=(1, 1), padding=(1, 1))\n",
              "    (15): ReLU(inplace=True)\n",
              "    (16): MaxPool2d(kernel_size=2, stride=2, padding=0, dilation=1, ceil_mode=False)\n",
              "    (17): Conv2d(256, 512, kernel_size=(3, 3), stride=(1, 1), padding=(1, 1))\n",
              "    (18): ReLU(inplace=True)\n",
              "    (19): Conv2d(512, 512, kernel_size=(3, 3), stride=(1, 1), padding=(1, 1))\n",
              "    (20): ReLU(inplace=True)\n",
              "    (21): Conv2d(512, 512, kernel_size=(3, 3), stride=(1, 1), padding=(1, 1))\n",
              "    (22): ReLU(inplace=True)\n",
              "    (23): MaxPool2d(kernel_size=2, stride=2, padding=0, dilation=1, ceil_mode=False)\n",
              "    (24): Conv2d(512, 512, kernel_size=(3, 3), stride=(1, 1), padding=(1, 1))\n",
              "    (25): ReLU(inplace=True)\n",
              "    (26): Conv2d(512, 512, kernel_size=(3, 3), stride=(1, 1), padding=(1, 1))\n",
              "    (27): ReLU(inplace=True)\n",
              "    (28): Conv2d(512, 512, kernel_size=(3, 3), stride=(1, 1), padding=(1, 1))\n",
              "    (29): ReLU(inplace=True)\n",
              "    (30): MaxPool2d(kernel_size=2, stride=2, padding=0, dilation=1, ceil_mode=False)\n",
              "  )\n",
              "  (avgpool): AdaptiveAvgPool2d(output_size=(7, 7))\n",
              "  (classifier): Sequential(\n",
              "    (0): Linear(in_features=25088, out_features=4096, bias=True)\n",
              "    (1): ReLU(inplace=True)\n",
              "    (2): Dropout(p=0.5, inplace=False)\n",
              "    (3): Linear(in_features=4096, out_features=4096, bias=True)\n",
              "  )\n",
              ")"
            ]
          },
          "metadata": {},
          "execution_count": 13
        }
      ]
    },
    {
      "cell_type": "code",
      "source": [
        "\n",
        "\n",
        "REBUILD_DATA = True\n",
        "\n",
        "class TestData():\n",
        "    IMG_SIZE = 50 \n",
        "    TEST = '/content/gdrive/MyDrive/images/test'\n",
        "    LABELS = {TEST : 0}\n",
        "    test_data = []\n",
        "    testcount = 0\n",
        "\n",
        "    def make_test_data(self):\n",
        "      for label in self.LABELS:\n",
        "        print(label)\n",
        "        for f in tqdm(os.listdir(label)):\n",
        "          if \"jpg\" in f: \n",
        "            try:\n",
        "              path = os.path.join(label, f)\n",
        "              img = cv2.imread(path)\n",
        "              img = cv2.resize(img, (self.IMG_SIZE, self.IMG_SIZE))\n",
        "              self.test_data.append([np.array(img), np.eye(2)[self.LABELS[label]]])\n",
        "              if label == self.TEST:\n",
        "                self.testcount += 1\n",
        "            except Exception as e:\n",
        "              pass\n",
        "      print(\"Tramisu: \", testdata_.testcount)\n",
        "      np.save(\"test_data.npy\", self.test_data)\n",
        "\n",
        "\n",
        "if REBUILD_DATA:\n",
        "  testdata_ = TestData()\n",
        "  testdata_.make_test_data()\n",
        "  \n",
        "test_data = np.load(\"test_data.npy\", allow_pickle = True)\n"
      ],
      "metadata": {
        "colab": {
          "base_uri": "https://localhost:8080/"
        },
        "id": "ZQjCc0MprPGq",
        "outputId": "8edf2e1c-71b9-4bda-a401-74c8d8bb218e"
      },
      "execution_count": null,
      "outputs": [
        {
          "output_type": "stream",
          "name": "stdout",
          "text": [
            "/content/gdrive/MyDrive/images/test\n"
          ]
        },
        {
          "output_type": "stream",
          "name": "stderr",
          "text": [
            "100%|██████████| 100/100 [00:02<00:00, 47.07it/s]"
          ]
        },
        {
          "output_type": "stream",
          "name": "stdout",
          "text": [
            "Tramisu:  100\n"
          ]
        },
        {
          "output_type": "stream",
          "name": "stderr",
          "text": [
            "\n",
            "/usr/local/lib/python3.7/dist-packages/numpy/lib/npyio.py:528: VisibleDeprecationWarning: Creating an ndarray from ragged nested sequences (which is a list-or-tuple of lists-or-tuples-or ndarrays with different lengths or shapes) is deprecated. If you meant to do this, you must specify 'dtype=object' when creating the ndarray.\n",
            "  arr = np.asanyarray(arr)\n"
          ]
        }
      ]
    },
    {
      "cell_type": "code",
      "source": [
        "REBUILD_DATA = True\n",
        "\n",
        "class baklavaTestData():\n",
        "    IMG_SIZE = 50 \n",
        "    BAKLAVATEST = '/content/gdrive/MyDrive/images/baklavatest'\n",
        "    LABELS = {BAKLAVATEST : 0}\n",
        "    Btest_data = []\n",
        "    Btestcount = 0\n",
        "\n",
        "    def make_baklava_data(self):\n",
        "      for label in self.LABELS:\n",
        "        print(label)\n",
        "        for f in tqdm(os.listdir(label)):\n",
        "          if \"jpg\" in f: \n",
        "            try:\n",
        "              path = os.path.join(label, f)\n",
        "              img = cv2.imread(path)\n",
        "              img = cv2.resize(img, (self.IMG_SIZE, self.IMG_SIZE))\n",
        "              self.Btest_data.append([np.array(img), np.eye(2)[self.LABELS[label]]])\n",
        "              if label == self.BAKLAVATEST:\n",
        "                self.Btestcount += 1\n",
        "            except Exception as e:\n",
        "              pass\n",
        "      print(\"BAKLAVATEST: \", Btestdata_.Btestcount)\n",
        "      np.save(\"Btest_data.npy\", self.Btest_data)\n",
        "\n",
        "\n",
        "if REBUILD_DATA:\n",
        "  Btestdata_ = baklavaTestData()\n",
        "  Btestdata_.make_baklava_data()\n",
        "  \n",
        "Btest_data = np.load(\"Btest_data.npy\", allow_pickle = True)\n"
      ],
      "metadata": {
        "colab": {
          "base_uri": "https://localhost:8080/"
        },
        "id": "iAVYRphQmvOG",
        "outputId": "f3e8c781-8e57-4d03-c5d0-8ccc97a1bf89"
      },
      "execution_count": null,
      "outputs": [
        {
          "output_type": "stream",
          "name": "stdout",
          "text": [
            "/content/gdrive/MyDrive/images/baklavatest\n"
          ]
        },
        {
          "output_type": "stream",
          "name": "stderr",
          "text": [
            "100%|██████████| 50/50 [00:18<00:00,  2.68it/s]"
          ]
        },
        {
          "output_type": "stream",
          "name": "stdout",
          "text": [
            "BAKLAVATEST:  50\n"
          ]
        },
        {
          "output_type": "stream",
          "name": "stderr",
          "text": [
            "\n",
            "/usr/local/lib/python3.7/dist-packages/numpy/lib/npyio.py:528: VisibleDeprecationWarning: Creating an ndarray from ragged nested sequences (which is a list-or-tuple of lists-or-tuples-or ndarrays with different lengths or shapes) is deprecated. If you meant to do this, you must specify 'dtype=object' when creating the ndarray.\n",
            "  arr = np.asanyarray(arr)\n"
          ]
        }
      ]
    },
    {
      "cell_type": "code",
      "source": [
        "REBUILD_DATA = True\n",
        "\n",
        "class tramisuTestData():\n",
        "    IMG_SIZE = 50 \n",
        "    TramisuTEST = '/content/gdrive/MyDrive/images/tiramisutest'\n",
        "    LABELS = {TramisuTEST : 0}\n",
        "    TRtest_data = []\n",
        "    TRtestcount = 0\n",
        "\n",
        "    def make_TR_data(self):\n",
        "      for label in self.LABELS:\n",
        "        print(label)\n",
        "        for f in tqdm(os.listdir(label)):\n",
        "          if \"jpg\" in f: \n",
        "            try:\n",
        "              path = os.path.join(label, f)\n",
        "              img = cv2.imread(path)\n",
        "              img = cv2.resize(img, (self.IMG_SIZE, self.IMG_SIZE))\n",
        "              self.TRtest_data.append([np.array(img), np.eye(2)[self.LABELS[label]]])\n",
        "              if label == self.TramisuTEST:\n",
        "                self.TRtestcount += 1\n",
        "            except Exception as e:\n",
        "              pass\n",
        "      print(\"TRTEST: \", TRtestdata_.TRtestcount)\n",
        "      np.save(\"TRtest_data.npy\", self.TRtest_data)\n",
        "\n",
        "\n",
        "if REBUILD_DATA:\n",
        "  TRtestdata_ = tramisuTestData()\n",
        "  TRtestdata_.make_TR_data()\n",
        "  \n",
        "TRtest_data = np.load(\"TRtest_data.npy\", allow_pickle = True)"
      ],
      "metadata": {
        "colab": {
          "base_uri": "https://localhost:8080/"
        },
        "id": "ILdayHkUnQN7",
        "outputId": "04ab2741-631a-4b93-caac-ae5176c48d60"
      },
      "execution_count": null,
      "outputs": [
        {
          "output_type": "stream",
          "name": "stdout",
          "text": [
            "/content/gdrive/MyDrive/images/tiramisutest\n"
          ]
        },
        {
          "output_type": "stream",
          "name": "stderr",
          "text": [
            "100%|██████████| 50/50 [00:16<00:00,  2.98it/s]"
          ]
        },
        {
          "output_type": "stream",
          "name": "stdout",
          "text": [
            "TRTEST:  50\n"
          ]
        },
        {
          "output_type": "stream",
          "name": "stderr",
          "text": [
            "\n",
            "/usr/local/lib/python3.7/dist-packages/numpy/lib/npyio.py:528: VisibleDeprecationWarning: Creating an ndarray from ragged nested sequences (which is a list-or-tuple of lists-or-tuples-or ndarrays with different lengths or shapes) is deprecated. If you meant to do this, you must specify 'dtype=object' when creating the ndarray.\n",
            "  arr = np.asanyarray(arr)\n"
          ]
        }
      ]
    },
    {
      "cell_type": "code",
      "source": [
        "from sklearn.decomposition import PCA\n",
        "\n",
        "trX = (torch.Tensor([i[0] for i in TRtest_data]).view(-1, 50, 50)).view(-1,3,50,50)\n",
        "bX = (torch.Tensor([i[0] for i in Btest_data]).view(-1, 50, 50)).view(-1,3,50,50)\n",
        "tX = (torch.Tensor([i[0] for i in test_data]).view(-1, 50, 50)).view(-1,3,50,50)\n",
        "\n",
        "#=== Checking Tramisu, Baklava and Unknown input in trained network===\n",
        "bak = copymodel(bX)\n",
        "tra = copymodel(trX)\n",
        "rav = copymodel(tX)\n",
        "\n",
        "#=== Converting to numpy\n",
        "baknum = bak.detach().numpy()\n",
        "tranum = tra.detach().numpy()\n",
        "ravnum = rav.detach().numpy()\n",
        "\n",
        "#=== Defining the functions for testing the new input\n",
        "def error(x,y):\n",
        "  err = (abs(y-x)/abs(y))*100\n",
        "  return err\n",
        "\n",
        "def IsTest(x, y, z):\n",
        "  if error(x, y) > 10 and error(x, z) > 10:\n",
        "    print(\"The input is a different type of food :(\")\n",
        "  elif error(x, y) < 10:\n",
        "    print(\"This may be a tramisu! :)\")\n",
        "  elif error(x, z) < 10:\n",
        "    print(\"This may be a baklava! :)\")\n",
        "  return\n",
        "#=======PCA Start=======#\n",
        "pcabak = PCA(n_components=3)\n",
        "pcatra = PCA(n_components=3)\n",
        "pcarav = PCA(n_components=3)\n",
        "\n",
        "pcabak.fit(baknum)\n",
        "baktrans = pcabak.transform(baknum)\n",
        "\n",
        "pcatra.fit(tranum)\n",
        "tratrans = pcatra.transform(tranum)\n",
        "\n",
        "pcarav.fit(ravnum)\n",
        "ravtrans = pcarav.transform(ravnum)\n",
        "rav_del = ravtrans[:-50, :]\n",
        "\n",
        "\n",
        "#=====Check if its a known food=====\n",
        "bakmean = baktrans.mean()\n",
        "tramean = tratrans.mean()\n",
        "ravmean = rav_del.mean()\n",
        "IsTest(ravmean, tramean, bakmean)"
      ],
      "metadata": {
        "colab": {
          "base_uri": "https://localhost:8080/"
        },
        "id": "DK05-PiJ-UcB",
        "outputId": "c7bb5575-ede4-44f2-ea49-0e3970319d47"
      },
      "execution_count": null,
      "outputs": [
        {
          "output_type": "stream",
          "name": "stdout",
          "text": [
            "The input is a different type of food :(\n"
          ]
        }
      ]
    },
    {
      "cell_type": "code",
      "source": [
        "xbak, ybak, zbak = baktrans[:,0], baktrans[:,1], baktrans[:,2]\n",
        "xtra, ytra, ztra = tratrans[:,0], tratrans[:,1], tratrans[:,2]\n",
        "xrav, yrav, zrav = rav_del[:,0], rav_del[:,1], rav_del[:,2]\n"
      ],
      "metadata": {
        "id": "9Y6UGlD7DSyJ"
      },
      "execution_count": null,
      "outputs": []
    },
    {
      "cell_type": "code",
      "source": [
        "fig = plt.figure()\n",
        "ax1 = fig.add_subplot(projection='3d')\n",
        "\n",
        "\n",
        "ax1.scatter(xbak, ybak, zbak, color='g', label = 'baklava')\n",
        "ax1.scatter(xtra, ytra, ztra, color='b', label = 'tiramisu')\n",
        "ax1.scatter(xrav, yrav, zrav, color='r', label = 'unknown food')\n",
        "\n",
        "\n",
        "ax1.set_xlabel('Principle Component 1')\n",
        "ax1.set_ylabel('Principle Component 2')\n",
        "ax1.set_zlabel('Principle Component 3')\n",
        "\n",
        "plt.legend()\n",
        "plt.show()"
      ],
      "metadata": {
        "colab": {
          "base_uri": "https://localhost:8080/",
          "height": 248
        },
        "id": "xYWkxLVGB9HG",
        "outputId": "c0738356-1c92-446d-c532-fc2d9e086098"
      },
      "execution_count": null,
      "outputs": [
        {
          "output_type": "display_data",
          "data": {
            "image/png": "[encoded data removed]",
            "text/plain": [
              "<Figure size 432x288 with 1 Axes>"
            ]
          },
          "metadata": {
            "needs_background": "light"
          }
        }
      ]
    }
  ]
}